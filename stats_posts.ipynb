{
  "nbformat": 4,
  "nbformat_minor": 0,
  "metadata": {
    "colab": {
      "name": "stats_posts.ipynb",
      "version": "0.3.2",
      "provenance": [],
      "collapsed_sections": []
    },
    "kernelspec": {
      "name": "python3",
      "display_name": "Python 3"
    }
  },
  "cells": [
    {
      "metadata": {
        "id": "50PP8FJbr1u8",
        "colab_type": "text"
      },
      "cell_type": "markdown",
      "source": [
        "# S3上のPOSTデータの処理\n",
        "\n",
        "serverless-httppost-s3-mail でS3にアップロードされたデータをPandasに読み込んで処理します"
      ]
    },
    {
      "metadata": {
        "id": "Aw9GgbIJs7jP",
        "colab_type": "text"
      },
      "cell_type": "markdown",
      "source": [
        "## S3からデータを読み込み\n",
        "\n",
        "以下の項目を設定します。\n",
        "\n",
        "- aws_access_key_id\n",
        "- aws_secret_access_key\n",
        "- region_name\n",
        "- BUCKET_NAME\n",
        "- BUCKET_PREFIX\n"
      ]
    },
    {
      "metadata": {
        "id": "4g53F9OhyKIS",
        "colab_type": "code",
        "colab": {}
      },
      "cell_type": "code",
      "source": [
        "AWS_ACCESS_KEY_ID = '<aws_access_key_id>'\n",
        "AWS_SECRET_ACCESS_KEY = 'aws_secret_access_key'\n",
        "REGION_NAME = 'us-east-1'\n",
        "BUCKET_NAME = '<bucket_name>'\n",
        "BUCKET_KEY_PREFIX = 'dev/'"
      ],
      "execution_count": 0,
      "outputs": []
    },
    {
      "metadata": {
        "id": "-nxk5NJC6ELr",
        "colab_type": "text"
      },
      "cell_type": "markdown",
      "source": [
        ""
      ]
    },
    {
      "metadata": {
        "id": "XS0P8LEgrp-D",
        "colab_type": "code",
        "colab": {}
      },
      "cell_type": "code",
      "source": [
        "import boto3\n",
        "import json\n",
        "\n",
        "from boto3.session import Session\n",
        "\n",
        "client = boto3.client('s3', aws_access_key_id = AWS_ACCESS_KEY_ID,\n",
        "                  aws_secret_access_key = AWS_SECRET_ACCESS_KEY,\n",
        "                  region_name = REGION_NAME)\n",
        "objs = client.list_objects(Bucket = BUCKET_NAME, Prefix = BUCKET_KEY_PREFIX)"
      ],
      "execution_count": 0,
      "outputs": []
    },
    {
      "metadata": {
        "id": "C9rMl_NXzXkL",
        "colab_type": "text"
      },
      "cell_type": "markdown",
      "source": [
        "## 取得したデータから必要な項目の抽出"
      ]
    },
    {
      "metadata": {
        "id": "FFUbbsbaweb1",
        "colab_type": "code",
        "colab": {}
      },
      "cell_type": "code",
      "source": [
        "keys = map(lambda x: x['Key'],  objs['Contents'])\n",
        "\n",
        "names = []\n",
        "ages = []\n",
        "times = []\n",
        "sourceips = []\n",
        "useragents = []\n",
        "users = []\n",
        "\n",
        "for key in list(keys):\n",
        "  data = client.get_object(Bucket=BUCKET_NAME, Key=key)\n",
        "  a = json.loads(data['Body'].read().decode('utf-8'))\n",
        "  b = json.loads(a['body'])\n",
        "  names.append(b['Name'] if 'Name' in b else None)\n",
        "  ages.append(b['Age'] if 'Age' in b else None)\n",
        "  times.append(a['requestContext']['requestTimeEpoch'])\n",
        "  sourceips.append(a['requestContext']['identity']['sourceIp'])\n",
        "  useragents.append(a['requestContext']['identity']['userAgent'])\n",
        "  users.append(a['requestContext']['identity']['user'])\n"
      ],
      "execution_count": 0,
      "outputs": []
    },
    {
      "metadata": {
        "id": "D9-gEi2_z3pv",
        "colab_type": "text"
      },
      "cell_type": "markdown",
      "source": [
        "## Pandas データフレームの作成"
      ]
    },
    {
      "metadata": {
        "id": "N9UpoSd8z9vQ",
        "colab_type": "code",
        "colab": {}
      },
      "cell_type": "code",
      "source": [
        "import pandas as pd\n",
        "\n",
        "df = pd.DataFrame({'name':names, 'age':ages, 'time':times, 'sourceip':sourceips, 'useragent': useragents, 'user': users})\n",
        "df"
      ],
      "execution_count": 0,
      "outputs": []
    }
  ]
}
